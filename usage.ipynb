{
 "cells": [
  {
   "cell_type": "code",
   "execution_count": 65,
   "id": "6f1b2366-8088-4505-a0c2-059121769c94",
   "metadata": {},
   "outputs": [
    {
     "name": "stdout",
     "output_type": "stream",
     "text": [
      "{\"message\":\"Model loaded successfully\"}\n"
     ]
    }
   ],
   "source": [
    "import requests\n",
    "\n",
    "url = \"http://localhost:8000/load-llama-model\"\n",
    "\n",
    "data = {\n",
    "    \"config_name\": \"text2semantic_finetune\",\n",
    "    \"checkpoint_path\": \"results/text2semantic_400m_finetune_spk/checkpoints/step_000001000.ckpt\",\n",
    "    \"device\": \"cuda\",\n",
    "    \"precision\": True, # bf16\n",
    "    \"tokenizer\": \"./checkpoints\",\n",
    "    \"compilation\": True\n",
    "}\n",
    "\n",
    "# 发送 POST 请求\n",
    "response = requests.post(url, json=data)\n",
    "\n",
    "# 打印响应内容\n",
    "print(response.text)"
   ]
  },
  {
   "cell_type": "code",
   "execution_count": 69,
   "id": "0d3a29d0-6cac-4a89-bba9-c8d47d80e769",
   "metadata": {},
   "outputs": [
    {
     "name": "stdout",
     "output_type": "stream",
     "text": [
      "{\"message\":\"Model loaded successfully\"}\n"
     ]
    }
   ],
   "source": [
    "import requests\n",
    "\n",
    "url = \"http://localhost:8000/load-vqgan-model\"\n",
    "\n",
    "data = {\n",
    "    \"config_name\": \"vqgan_pretrain\",\n",
    "    \"checkpoint_path\": \"checkpoints/vqgan-v1.pth\",\n",
    "}\n",
    "\n",
    "# 发送 POST 请求\n",
    "response = requests.post(url, json=data)\n",
    "\n",
    "# 打印响应内容\n",
    "print(response.text)"
   ]
  },
  {
   "cell_type": "code",
   "execution_count": 71,
   "id": "2221829a-7837-4ee2-85f9-8f489538e2e3",
   "metadata": {},
   "outputs": [
    {
     "name": "stdout",
     "output_type": "stream",
     "text": [
      "{\"message\":\"Model used successfully\",\"input\":\"少侠，你可曾还记得拜入门派的初心？在年度资料片“绝学降世”即将于10月27日开启之际，天龙江湖十四大门派的情感汇聚于此，将各门派特色的武学招式融入歌词之中，以门派诗念白吟诵门派精神内核、以悠扬的国风作曲为线，致敬每一位畅游江湖的天龙少侠。\"}\n"
     ]
    }
   ],
   "source": [
    "import requests\n",
    "\n",
    "\n",
    "url = \"http://localhost:8000/use-model\"\n",
    "\n",
    "# 要发送的数据\n",
    "data = {\n",
    "    \"text\": \"少侠，你可曾还记得拜入门派的初心？在年度资料片“绝学降世”即将于10月27日开启之际，天龙江湖十四大门派的情感汇聚于此，将各门派特色的武学招式融入歌词之中，以门派诗念白吟诵门派精神内核、以悠扬的国风作曲为线，致敬每一位畅游江湖的天龙少侠。\",\n",
    "    \"prompt_text\": \"难道不是越好看的牌越强嘛…\",\n",
    "    \"prompt_tokens\": \"/root/autodl-tmp/fish-speech/data/demo/可莉/vo_card_klee_endOfGame_fail_01.npy\",\n",
    "    \"num_samples\": 5,\n",
    "    \"max_new_tokens\": 1024,\n",
    "    \"use_g2p\": False,\n",
    "    \"speaker\": \"可莉\"\n",
    "}\n",
    "\n",
    "# 发送 POST 请求\n",
    "response = requests.post(url, json=data)\n",
    "\n",
    "# 打印响应内容\n",
    "print(response.text)\n"
   ]
  },
  {
   "cell_type": "code",
   "execution_count": 72,
   "id": "db9e81b7-2fca-4703-832d-120ef5e38a1f",
   "metadata": {},
   "outputs": [
    {
     "name": "stdout",
     "output_type": "stream",
     "text": [
      "{\"message\":\"The llama model is deleted!\\nThe vqgan model is deleted!\"}\n"
     ]
    }
   ],
   "source": [
    "import requests\n",
    "\n",
    "url = \"http://localhost:8000/del-model\"\n",
    "\n",
    "data = {\n",
    "    \"text\": \"shut down\"\n",
    "}\n",
    "\n",
    "# 发送 POST 请求\n",
    "response = requests.post(url, json=data)\n",
    "\n",
    "# 打印响应内容\n",
    "print(response.text)"
   ]
  },
  {
   "cell_type": "code",
   "execution_count": null,
   "id": "aa9f76ff-aef0-4b09-97e9-602e00e9c28f",
   "metadata": {},
   "outputs": [],
   "source": []
  }
 ],
 "metadata": {
  "kernelspec": {
   "display_name": "Python 3 (ipykernel)",
   "language": "python",
   "name": "python3"
  },
  "language_info": {
   "codemirror_mode": {
    "name": "ipython",
    "version": 3
   },
   "file_extension": ".py",
   "mimetype": "text/x-python",
   "name": "python",
   "nbconvert_exporter": "python",
   "pygments_lexer": "ipython3",
   "version": "3.10.8"
  }
 },
 "nbformat": 4,
 "nbformat_minor": 5
}
